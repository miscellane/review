{
 "cells": [
  {
   "cell_type": "markdown",
   "metadata": {},
   "source": [
    "**For 1.18: What if we need to store something other than a number?**\n",
    "\n",
    "<br>"
   ]
  },
  {
   "cell_type": "markdown",
   "metadata": {},
   "source": [
    "<img src=\"https://assets.futurelearn.com/packs/app/assets/images/fl_logo-f9d7f37a61915a2fbf8a26cbb285fed0.svg\"/>"
   ]
  },
  {
   "cell_type": "markdown",
   "metadata": {},
   "source": [
    "# Get ready for a Masters in Data Science and Artificial Intelligence\n",
    "\n",
    "The following notebook is intended for use after reading the step listed below.\n",
    "\n",
    "The following tasks are designed to test your knowledge on what we have learned during the current step, make sure to read each section carefully and then edit the code cells to fit the requirements. \n",
    "\n",
    "You are encouraged to ask other students for peer feedback from the tutorials, this provides valuable insight and can show you different methods to complete the same task.\n",
    "\n",
    "Try to complete the tasks by yourself, but if you would like some help you can either:\n",
    "- Look back at the content for this step on Future Learn.\n",
    "- Ask another student how they completed the task.\n",
    "- Use Google to your advantage!"
   ]
  },
  {
   "cell_type": "markdown",
   "metadata": {},
   "source": [
    "# Operators\n",
    "Just to remind you, here's the table of Operators from the previous step!\n",
    "\n",
    "| **Operator** | **Name** |\n",
    "| :---:|:---:|\n",
    "|+|Addition|\n",
    "|-|Subtraction|\n",
    "|*|Multiplication|\n",
    "|/|Division|\n",
    "|%|Modulus|\n",
    "|**|Exponentiation|\n",
    "|//|Floor Division|"
   ]
  },
  {
   "cell_type": "markdown",
   "metadata": {},
   "source": [
    "# Step 1-13 Task - Variables"
   ]
  },
  {
   "cell_type": "markdown",
   "metadata": {},
   "source": [
    "### Task 1\n",
    "For each of the variables, store an appropriate value for their name. \n",
    "The `IntegerVariable` has been done for you and stores a whole number of `1586`, now do the same for the other Data Types!\n"
   ]
  },
  {
   "cell_type": "code",
   "execution_count": 1,
   "metadata": {},
   "outputs": [],
   "source": [
    "integer_variable = 1586\n",
    "\n",
    "float_variable = 2.791\n",
    "\n",
    "boolean_variable = True\n",
    "\n",
    "string_variable = 'risk'"
   ]
  },
  {
   "cell_type": "markdown",
   "metadata": {},
   "source": [
    "### Task 2\n",
    "Perform the following Operations on the Variables below, the first one has been done for you!\n",
    "\n",
    "1. Add 56 to the first Variable\n",
    "2. Multiply the second Variable by 12\n",
    "3. Subtract 10 from the third Variable\n",
    "4. Make the fourth variable equal to the First and Second Variables added together."
   ]
  },
  {
   "cell_type": "code",
   "execution_count": 2,
   "metadata": {},
   "outputs": [],
   "source": [
    "first_variable = 44\n",
    "second_variable = 10\n",
    "third_variable = 110\n",
    "fourth_variable = 0\n",
    "\n",
    "# Your code goes below here!\n",
    "first_variable = first_variable + 56\n",
    "second_variable = second_variable * 12\n",
    "third_variable = third_variable - 10\n",
    "fourth_variable = first_variable + second_variable"
   ]
  },
  {
   "cell_type": "markdown",
   "metadata": {},
   "source": [
    "### Task 3\n",
    "For this task you will do the following:\n",
    "- Add together the variables to produce and get the program to `print()` the message: `\"I am programming in Python!\"`\n",
    "- Do not add any extra variables or change any existing ones.\n",
    "\n",
    "When you are done, Run the cell to see if it works!"
   ]
  },
  {
   "cell_type": "code",
   "execution_count": 5,
   "metadata": {},
   "outputs": [
    {
     "name": "stdout",
     "output_type": "stream",
     "text": [
      "I am programming in Python!\n"
     ]
    }
   ],
   "source": [
    "string_a = \"I am programming \"\n",
    "string_b = \"in Python\"\n",
    "string_c = \"!\"\n",
    "\n",
    "\n",
    "print_message = string_a + string_b + string_c\n",
    "\n",
    "print(print_message)"
   ]
  },
  {
   "cell_type": "markdown",
   "metadata": {},
   "source": [
    "### Task 4\n",
    "For this task you will do the following:\n",
    "- Declare an Array with 6 Names like the one we used as an example in this step!\n",
    "\n",
    "When you are done, Run the cell to see if it works!"
   ]
  },
  {
   "cell_type": "code",
   "execution_count": 6,
   "metadata": {},
   "outputs": [
    {
     "name": "stdout",
     "output_type": "stream",
     "text": [
      "['Rosalind', 'Grace', 'Kara', 'Steven', 'Tzu', 'Harriet']\n"
     ]
    }
   ],
   "source": [
    "forenames = ['Rosalind', 'Grace', 'Kara', 'Steven', 'Tzu', 'Harriet']\n",
    "\n",
    "print(forenames)"
   ]
  },
  {
   "cell_type": "markdown",
   "metadata": {},
   "source": [
    "### Task 5\n",
    "For this task you will do the following:\n",
    "- Set the given variables to their appropriate value e.g. Set `FirstNameInList` to the first name in `NameList` \n",
    "- Do not just copy/write out the names from the list, you should use indexing to extract the names from the list.\n",
    "\n",
    "*Hint: Remember Array indexes start at 0!*"
   ]
  },
  {
   "cell_type": "code",
   "execution_count": 8,
   "metadata": {
    "scrolled": true
   },
   "outputs": [
    {
     "name": "stdout",
     "output_type": "stream",
     "text": [
      "Brian William Danny Joshua\n"
     ]
    }
   ],
   "source": [
    "name_list = [\"Brian\", \"David\", \"William\", \"Joshua\", \"Danny\"]\n",
    "\n",
    "#Fill in the following:\n",
    "first_name_in_list = name_list[0]\n",
    "third_name_in_list = name_list[2]\n",
    "last_name_in_list = name_list[-1]\n",
    "second_to_last_name_in_list = name_list[-2]\n",
    "\n",
    "print(first_name_in_list, third_name_in_list, last_name_in_list, second_to_last_name_in_list)"
   ]
  },
  {
   "cell_type": "markdown",
   "metadata": {},
   "source": [
    "# Answers\n",
    "The answers to the above tasks are listed below this cell, before looking down here, make sure you've had a real good try at the tasks above!\n",
    "```\n",
    "\n",
    "\n",
    "\n",
    "\n",
    "\n",
    "\n",
    "\n",
    "\n",
    "\n",
    "\n",
    "\n",
    "\n",
    "\n",
    "\n",
    "\n",
    "\n",
    "\n",
    "\n",
    "\n",
    "\n",
    "\n",
    "\n",
    "\n",
    "\n",
    "\n",
    "\n",
    "\n",
    "\n",
    "\n",
    "\n",
    "\n",
    "\n",
    "\n",
    "\n",
    "\n",
    "\n",
    "\n",
    "\n",
    "\n",
    "\n",
    "\n",
    "```\n",
    "\n",
    "\n",
    "\n"
   ]
  },
  {
   "cell_type": "markdown",
   "metadata": {},
   "source": [
    "### Task 1\n",
    "For each of the variables, store an appropriate value for their name. \n",
    "The `IntegerVariable` has been done for you and stores a whole number of `1586`, now do the same for the other Data Types!\n"
   ]
  },
  {
   "cell_type": "code",
   "execution_count": null,
   "metadata": {},
   "outputs": [],
   "source": [
    "IntegerVariable = 1586\n",
    "\n",
    "FloatVariable = 12.256\n",
    "\n",
    "BooleanVariable = False\n",
    "\n",
    "StringVariable = \"Hello!\""
   ]
  },
  {
   "cell_type": "markdown",
   "metadata": {},
   "source": [
    "### Task 2\n",
    "Perform the following Operations on the Variables below, the first one has been done for you!\n",
    "\n",
    "1. Add 56 to the first Variable\n",
    "2. Multiply the second Variable by 12\n",
    "3. Subtract 10 from the third Variable\n",
    "4. Make the fourth variable equal to the First and Second Variables added together."
   ]
  },
  {
   "cell_type": "code",
   "execution_count": null,
   "metadata": {},
   "outputs": [],
   "source": [
    "FirstVariable = 44\n",
    "SecondVariable = 10\n",
    "ThirdVariable = 110\n",
    "FourthVariable = 0\n",
    "\n",
    "#Your code goes below here!\n",
    "FirstVariable = FirstVariable + 56\n",
    "SecondVariable = SecondVariable * 12\n",
    "ThirdVariable = ThirdVariable - 10\n",
    "FourthVariable = FirstVariable + SecondVariable"
   ]
  },
  {
   "cell_type": "markdown",
   "metadata": {},
   "source": [
    "### Task 3\n",
    "For this task you will do the following:\n",
    "- Add together the variables to produce and get the program to `print()` the message: `\"I am programming in Python!\"`\n",
    "- Do not add any extra variables or change any existing ones.\n",
    "\n",
    "When you are done, Run the cell to see if it works!"
   ]
  },
  {
   "cell_type": "code",
   "execution_count": null,
   "metadata": {},
   "outputs": [],
   "source": [
    "StringA = \"I am programming \"\n",
    "StringB = \"in Python\"\n",
    "StringC = \"!\"\n",
    "\n",
    "\n",
    "PrintMessage = StringA + StringB + StringC   #<< Your code goes before this comment!\n",
    "\n",
    "print(PrintMessage)"
   ]
  },
  {
   "cell_type": "markdown",
   "metadata": {},
   "source": [
    "### Task 4\n",
    "For this task you will do the following:\n",
    "- Declare an Array with 6 Names like the one we used as an example in this step!\n",
    "\n",
    "When you are done, Run the cell to see if it works!"
   ]
  },
  {
   "cell_type": "code",
   "execution_count": null,
   "metadata": {},
   "outputs": [],
   "source": [
    "#Your code goes below here!\n",
    "NameList = [\"Brian\", \"David\", \"William\", \"Joshua\", \"Danny\", \"Daniel\"]\n"
   ]
  },
  {
   "cell_type": "markdown",
   "metadata": {},
   "source": [
    "### Task 5\n",
    "For this task you will do the following:\n",
    "- Set the given variables to their appropriate value e.g. Set `FirstNameInList` to the first name in `NameList` \n",
    "- Do not just copy/write out the names from the list, you should use indexing to extract the names from the list.\n",
    "\n",
    "*Hint: Remember Array indexes start at 0!*"
   ]
  },
  {
   "cell_type": "code",
   "execution_count": null,
   "metadata": {
    "scrolled": true
   },
   "outputs": [],
   "source": [
    "NameList = [\"Brian\", \"David\", \"William\", \"Joshua\", \"Danny\"]\n",
    "\n",
    "#Fill in the following:\n",
    "FirstNameInList = NameList[0]\n",
    "ThirdNameInList = NameList[2]\n",
    "LastNameInList = NameList[-1]\n",
    "SecondToLastNameInList = NameList[-2]"
   ]
  }
 ],
 "metadata": {
  "kernelspec": {
   "display_name": "Python 3",
   "language": "python",
   "name": "python3"
  },
  "language_info": {
   "codemirror_mode": {
    "name": "ipython",
    "version": 3
   },
   "file_extension": ".py",
   "mimetype": "text/x-python",
   "name": "python",
   "nbconvert_exporter": "python",
   "pygments_lexer": "ipython3",
   "version": "3.7.11"
  }
 },
 "nbformat": 4,
 "nbformat_minor": 4
}
