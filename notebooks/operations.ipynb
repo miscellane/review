{
 "cells": [
  {
   "cell_type": "markdown",
   "metadata": {},
   "source": [
    "### Preliminaries"
   ]
  },
  {
   "cell_type": "code",
   "execution_count": 1,
   "metadata": {},
   "outputs": [],
   "source": [
    "import numpy as np"
   ]
  },
  {
   "cell_type": "markdown",
   "metadata": {},
   "source": [
    "<br>\n",
    "<br>\n",
    "\n",
    "### Random Number Generation Instances"
   ]
  },
  {
   "cell_type": "markdown",
   "metadata": {},
   "source": [
    "The random integers generation approach illustrated within future learn [is now a legacy approach](https://numpy.org/devdocs/reference/random/generated/numpy.random.randint.html).  The advised approach is detailed at [Random Sampling](https://numpy.org/devdocs/reference/random/index.html#random-sampling-numpy-random).  The latest approach for generating random integers is illustrated herein.  More notes about\n",
    "\n",
    " * `default_rng`: https://numpy.org/doc/stable/reference/random/generator.html\n",
    " * constant variables: https://www.python.org/dev/peps/pep-0008/#id46"
   ]
  },
  {
   "cell_type": "code",
   "execution_count": 2,
   "metadata": {},
   "outputs": [],
   "source": [
    "SEED = 5\n",
    "rng = np.random.default_rng(seed=SEED)"
   ]
  },
  {
   "cell_type": "markdown",
   "metadata": {},
   "source": [
    "<br>\n",
    "<br>\n",
    "\n",
    "### Arithmetic"
   ]
  },
  {
   "cell_type": "markdown",
   "metadata": {},
   "source": [
    "Hence, 60 rolls of a dice"
   ]
  },
  {
   "cell_type": "code",
   "execution_count": 3,
   "metadata": {},
   "outputs": [
    {
     "data": {
      "text/plain": [
       "array([5, 5, 1, 5, 3, 4, 4, 2, 6, 1, 2, 3, 4, 3, 1, 1, 1, 1, 1, 6, 2, 4,\n",
       "       5, 2, 2, 3, 2, 6, 2, 6, 5, 6, 1, 3, 4, 3, 4, 5, 4, 1, 6, 4, 6, 2,\n",
       "       3, 6, 2, 1, 3, 5, 1, 6, 3, 2, 4, 6, 6, 6, 2, 1], dtype=int64)"
      ]
     },
     "execution_count": 3,
     "metadata": {},
     "output_type": "execute_result"
    }
   ],
   "source": [
    "myrolls = rng.integers(low=1, high=7, size=60)\n",
    "myrolls"
   ]
  },
  {
   "cell_type": "code",
   "execution_count": 4,
   "metadata": {},
   "outputs": [
    {
     "data": {
      "text/plain": [
       "3.4"
      ]
     },
     "execution_count": 4,
     "metadata": {},
     "output_type": "execute_result"
    }
   ],
   "source": [
    "np.mean(myrolls)"
   ]
  },
  {
   "cell_type": "code",
   "execution_count": 5,
   "metadata": {},
   "outputs": [
    {
     "data": {
      "text/plain": [
       "(array([1, 2, 3, 4, 5, 6], dtype=int64),\n",
       " array([12, 11,  9,  9,  7, 12], dtype=int64))"
      ]
     },
     "execution_count": 5,
     "metadata": {},
     "output_type": "execute_result"
    }
   ],
   "source": [
    "np.unique(myrolls, return_counts=True)"
   ]
  }
 ],
 "metadata": {
  "kernelspec": {
   "display_name": "Python 3",
   "language": "python",
   "name": "python3"
  },
  "language_info": {
   "codemirror_mode": {
    "name": "ipython",
    "version": 3
   },
   "file_extension": ".py",
   "mimetype": "text/x-python",
   "name": "python",
   "nbconvert_exporter": "python",
   "pygments_lexer": "ipython3",
   "version": "3.7.11"
  }
 },
 "nbformat": 4,
 "nbformat_minor": 4
}
