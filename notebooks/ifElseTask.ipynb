{
 "cells": [
  {
   "cell_type": "markdown",
   "metadata": {},
   "source": [
    "<img src=\"https://assets.futurelearn.com/packs/app/assets/images/fl_logo-f9d7f37a61915a2fbf8a26cbb285fed0.svg\"/>"
   ]
  },
  {
   "cell_type": "markdown",
   "metadata": {},
   "source": [
    "# Get ready for a Masters in Data Science and Artificial Intelligence\n",
    "\n",
    "The following notebook is intended for use after reading the step listed below.\n",
    "\n",
    "The following tasks are designed to test your knowledge on what we have learned during the current step, make sure to read each section carefully and then edit the code cells to fit the requirements. \n",
    "\n",
    "You are encouraged to ask other students for peer feedback from the tutorials, this provides valuable insight and can show you different methods to complete the same task.\n",
    "\n",
    "Try to complete the tasks by yourself, but if you would like some help you can either:\n",
    "- Look back at the content for this step on Future Learn.\n",
    "- Ask another student how they completed the task.\n",
    "- Use Google to your advantage!"
   ]
  },
  {
   "cell_type": "markdown",
   "metadata": {},
   "source": [
    "# Conditional Statements"
   ]
  },
  {
   "cell_type": "markdown",
   "metadata": {},
   "source": [
    "### Task 1 - Simple If Statement\n",
    "For this task you will do the following:\n",
    "\n",
    "- Fill in the Condition brackets of the if statement and get the print statement to run!"
   ]
  },
  {
   "cell_type": "code",
   "execution_count": 1,
   "metadata": {},
   "outputs": [
    {
     "name": "stdout",
     "output_type": "stream",
     "text": [
      "It is False!\n"
     ]
    }
   ],
   "source": [
    "bool_variable = False\n",
    "\n",
    "if (bool_variable == False): # <<<<<Fill in\n",
    "    print(\"It is False!\")\n"
   ]
  },
  {
   "cell_type": "markdown",
   "metadata": {},
   "source": [
    "### Task 2\n",
    "For this task we've imported a Random number generator, we will go over how this is possible in a later step, but for now you will do the following:\n",
    "\n",
    "\n",
    "- Use an If statement to check if the value of `RandomNumber` is greater than 20\n",
    "- If so, print a custom message!\n"
   ]
  },
  {
   "cell_type": "code",
   "execution_count": 2,
   "metadata": {},
   "outputs": [
    {
     "name": "stdout",
     "output_type": "stream",
     "text": [
      "The random number is 26\n",
      "Note: 26 > 20\n"
     ]
    }
   ],
   "source": [
    "import random\n",
    "\n",
    "random_number = random.randint(0,40) # Chooses a random number between 0 and 40!\n",
    "\n",
    "print(\"The random number is \" + str(random_number))  # Converts our random_number to a string, subsequently it prints \n",
    "                                                     # the value (We will be going over what this means in a later step)\n",
    "\n",
    "# Your code goes below here!\n",
    "if (random_number > 20):\n",
    "    print('Note: {} > 20'.format(random_number))\n"
   ]
  },
  {
   "cell_type": "markdown",
   "metadata": {},
   "source": [
    "### Task 3\n",
    "For this task, we are generating a random number again, you will do the following:\n",
    "\n",
    "- Use an `If` and an `Elif` statement to `print()` one message if the number is positive, and another if negative."
   ]
  },
  {
   "cell_type": "code",
   "execution_count": 3,
   "metadata": {},
   "outputs": [
    {
     "name": "stdout",
     "output_type": "stream",
     "text": [
      "The random number is 22\n",
      "positive integer\n"
     ]
    }
   ],
   "source": [
    "import random\n",
    "\n",
    "random_number = random.randint(-40, 40) # Chooses a random number between 0 and 40!\n",
    "\n",
    "print(\"The random number is \" + str(random_number))  # Converts our random_number to a string, subsequently it prints \n",
    "                                                     # the value (We will be going over what this means in a later step)\n",
    "\n",
    "if (random_number > 0):\n",
    "    print('positive integer')\n",
    "elif (random_number < 0):\n",
    "    print('negative integer')\n",
    "else:\n",
    "    print('Otherwise, the random number is 0 ({})'.format(random_number == 0))"
   ]
  },
  {
   "cell_type": "markdown",
   "metadata": {},
   "source": [
    "### Task 4\n",
    "For this task, we will be grabbing the users input when we run the cell, you will do the following:\n",
    "- Check if the `NameInput` variable is equal to your name\n",
    "- If the input is your name, Print a custom message which includes your name!\n",
    "- If it is not your name, print a different message which includes their name!\n",
    "\n",
    "When you are done, Run the cell to see if it works!\n",
    "\n",
    "*Hint: Remember how in the last step we were able to add strings together?*"
   ]
  },
  {
   "cell_type": "code",
   "execution_count": 5,
   "metadata": {},
   "outputs": [
    {
     "name": "stdin",
     "output_type": "stream",
     "text": [
      "What is your name?:  rosalind\n"
     ]
    },
    {
     "name": "stdout",
     "output_type": "stream",
     "text": [
      "We have the same name\n"
     ]
    }
   ],
   "source": [
    "name_input = input(\"What is your name?: \")\n",
    "name = 'rosalind'\n",
    "\n",
    "# Your code goes below here!\n",
    "if (name_input.lower() == name):\n",
    "    print('We have the same name')\n",
    "else:\n",
    "    print('Hello {}'.format(name_input.title()))\n",
    "\n"
   ]
  },
  {
   "cell_type": "markdown",
   "metadata": {},
   "source": [
    "# Answers\n",
    "The answers to the above tasks are listed below this cell, before looking down here, make sure you've had a real good try at the tasks above!\n",
    "```\n",
    "\n",
    "\n",
    "\n",
    "\n",
    "\n",
    "\n",
    "\n",
    "\n",
    "\n",
    "\n",
    "\n",
    "\n",
    "\n",
    "\n",
    "\n",
    "\n",
    "\n",
    "\n",
    "\n",
    "\n",
    "\n",
    "\n",
    "\n",
    "\n",
    "\n",
    "\n",
    "\n",
    "\n",
    "\n",
    "\n",
    "\n",
    "\n",
    "\n",
    "\n",
    "\n",
    "\n",
    "\n",
    "\n",
    "\n",
    "\n",
    "\n",
    "```\n",
    "\n",
    "\n",
    "\n"
   ]
  },
  {
   "cell_type": "markdown",
   "metadata": {},
   "source": [
    "### Task 1 - Simple If Statement\n",
    "For this task you will do the following:\n",
    "\n",
    "- Fill in the Condition brackets of the if statement and get the print statement to run!"
   ]
  },
  {
   "cell_type": "code",
   "execution_count": null,
   "metadata": {},
   "outputs": [],
   "source": [
    "BoolVariable = False\n",
    "\n",
    "if (BoolVariable == False): #<<<<<Fill in\n",
    "    print(\"It is False!\")\n"
   ]
  },
  {
   "cell_type": "markdown",
   "metadata": {},
   "source": [
    "### Task 2\n",
    "For this task we've imported a Random number generator, we will go over how to do this in a later step, but for now you will do the following:\n",
    "\n",
    "\n",
    "- Use an If statement to check if the value of `RandomNumber` is greater than 20\n",
    "- If so, print a custom message!\n"
   ]
  },
  {
   "cell_type": "code",
   "execution_count": null,
   "metadata": {},
   "outputs": [],
   "source": [
    "import random\n",
    "RandomNumber = random.randint(0,40) #Chooses a random number between 0 and 40!\n",
    "print(\"The random number is \" + str(RandomNumber)) #Convert our RandomNumber to a string and print what it is (We will be going over what this means in a later step)\n",
    "\n",
    "#Your code goes below here!\n",
    "if(RandomNumber > 20):\n",
    "    print(\"Which is higher than 20!\")\n"
   ]
  },
  {
   "cell_type": "markdown",
   "metadata": {},
   "source": [
    "### Task 3\n",
    "For this task, we are generating a random number again, you will do the following:\n",
    "\n",
    "- Use an `If` and an `Elif` statement to `print()` one message if the number is positive, and another if negative."
   ]
  },
  {
   "cell_type": "code",
   "execution_count": null,
   "metadata": {},
   "outputs": [],
   "source": [
    "import random\n",
    "RandomNumber = random.randint(-40,40) #Chooses a random number between 0 and 40!\n",
    "print(\"The random number is \" + str(RandomNumber)) #Convert our RandomNumber to a string and print what it is (We will be going over what this means in a later step)\n",
    "\n",
    "#Your code goes below here!\n",
    "if(RandomNumber > 0):\n",
    "    print(\"The number is Positive!\")\n",
    "elif(RandomNumber < 0):\n",
    "    print(\"The number is Negative!\")\n"
   ]
  },
  {
   "cell_type": "markdown",
   "metadata": {},
   "source": [
    "### Task 4\n",
    "For this task, we will be grabbing the users input when we run the cell, you will do the following:\n",
    "- Check if the `NameInput` variable is equal to your name\n",
    "- If the input is your name, Print a custom message which includes your name!\n",
    "- If it is not your name, print a different message which includes their name!\n",
    "\n",
    "When you are done, Run the cell to see if it works!\n",
    "\n",
    "*Hint: Remember how in the last step we were able to add strings together?*"
   ]
  },
  {
   "cell_type": "code",
   "execution_count": null,
   "metadata": {},
   "outputs": [],
   "source": [
    "NameInput = input(\"What is your name?: \")\n",
    "\n",
    "#Your code goes below here!\n",
    "\n",
    "if(NameInput == \"Daniel\"):\n",
    "    print(\"Welcome back, \" + NameInput)\n",
    "    \n",
    "else:\n",
    "    print(\"Nice to meet you, \" + NameInput)"
   ]
  }
 ],
 "metadata": {
  "kernelspec": {
   "display_name": "Python 3",
   "language": "python",
   "name": "python3"
  },
  "language_info": {
   "codemirror_mode": {
    "name": "ipython",
    "version": 3
   },
   "file_extension": ".py",
   "mimetype": "text/x-python",
   "name": "python",
   "nbconvert_exporter": "python",
   "pygments_lexer": "ipython3",
   "version": "3.7.11"
  }
 },
 "nbformat": 4,
 "nbformat_minor": 4
}
