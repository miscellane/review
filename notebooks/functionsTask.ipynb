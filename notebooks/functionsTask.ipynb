{
 "cells": [
  {
   "cell_type": "markdown",
   "metadata": {},
   "source": [
    "<img src=\"https://assets.futurelearn.com/packs/app/assets/images/fl_logo-f9d7f37a61915a2fbf8a26cbb285fed0.svg\"/>"
   ]
  },
  {
   "cell_type": "markdown",
   "metadata": {},
   "source": [
    "# Get ready for a Masters in Data Science and Artificial Intelligence\n",
    "\n",
    "The following notebook is intended for use after reading the step listed below.\n",
    "\n",
    "The following tasks are designed to test your knowledge on what we have learned during the current step, make sure to read each section carefully and then edit the code cells to fit the requirements. \n",
    "\n",
    "You are encouraged to ask other students for peer feedback from the tutorials, this provides valuable insight and can show you different methods to complete the same task.\n",
    "\n",
    "Try to complete the tasks by yourself, but if you would like some help you can either:\n",
    "- Look back at the content for this step on Future Learn.\n",
    "- Ask another student how they completed the task.\n",
    "- Use Google to your advantage!"
   ]
  },
  {
   "cell_type": "markdown",
   "metadata": {},
   "source": [
    "### Task 1\n",
    "Define a function and call it! It can do anything you want such as Printing a message!"
   ]
  },
  {
   "cell_type": "code",
   "execution_count": 1,
   "metadata": {},
   "outputs": [],
   "source": [
    "# Your code goes below here!\n",
    "def square_root(number):\n",
    "    \n",
    "    return number ** 0.5"
   ]
  },
  {
   "cell_type": "code",
   "execution_count": 3,
   "metadata": {},
   "outputs": [
    {
     "data": {
      "text/plain": [
       "5.282045058497703"
      ]
     },
     "execution_count": 3,
     "metadata": {},
     "output_type": "execute_result"
    }
   ],
   "source": [
    "square_root(27.9)"
   ]
  },
  {
   "cell_type": "markdown",
   "metadata": {},
   "source": [
    "### Task 2\n",
    "For this task, do the following:\n",
    "- Define a function with 2 Arguments\n",
    "- Use an If/Else statement to find out which argument is the biggest number and then `print()` it!\n",
    "\n",
    "When you are done, call the function with 2 numbers and then Run the cell to see if it works!"
   ]
  },
  {
   "cell_type": "code",
   "execution_count": 4,
   "metadata": {},
   "outputs": [],
   "source": [
    "# Your code goes below here!\n",
    "def largest(x, y):\n",
    "    if (x > y):\n",
    "        print('x is the largest number: x = {x}, y = {y}'.format(x=x, y=y))\n",
    "    elif (x < y):\n",
    "        print('y is the largest number: x = {x}, y = {y}'.format(x=x, y=y))\n",
    "    else:\n",
    "        print('x == y: x = {x}, y = {y}'.format(x=x, y=y))\n"
   ]
  },
  {
   "cell_type": "code",
   "execution_count": 7,
   "metadata": {},
   "outputs": [
    {
     "name": "stdout",
     "output_type": "stream",
     "text": [
      "x == y: x = 607, y = 607\n"
     ]
    }
   ],
   "source": [
    "largest(x=607, y=607)"
   ]
  },
  {
   "cell_type": "markdown",
   "metadata": {},
   "source": [
    "### Task 3\n",
    "For this task you will do the following:\n",
    "- Define a function with 1 Argument\n",
    "- Use an If/Else statement to find out if the argument is Positive or Negative\n",
    "- Make the function return `False` if the number is negative and `True` if Positive\n",
    "\n",
    "When you are done, call the function with a number and then Run the cell to see if it works!"
   ]
  },
  {
   "cell_type": "code",
   "execution_count": 8,
   "metadata": {},
   "outputs": [],
   "source": [
    "# Your code goes below here!\n",
    "def positive(x):\n",
    "    if (x < 0):\n",
    "        return False\n",
    "    elif (x > 0):\n",
    "        return True\n",
    "    else:\n",
    "        print('The number is neither negative nor positive')\n",
    "        return None"
   ]
  },
  {
   "cell_type": "code",
   "execution_count": 11,
   "metadata": {},
   "outputs": [
    {
     "name": "stdout",
     "output_type": "stream",
     "text": [
      "The number is neither negative nor positive\n"
     ]
    }
   ],
   "source": [
    "positive(x=0)"
   ]
  },
  {
   "cell_type": "markdown",
   "metadata": {},
   "source": [
    "### Task 4\n",
    "For this task you will do the following:\n",
    "- Define a Function with 1 Argument that Squares the number you give it and returns it!"
   ]
  },
  {
   "cell_type": "code",
   "execution_count": 12,
   "metadata": {},
   "outputs": [],
   "source": [
    "# Your code goes below here!\n",
    "def square(x):\n",
    "    \n",
    "    return x ** 2"
   ]
  },
  {
   "cell_type": "code",
   "execution_count": 15,
   "metadata": {},
   "outputs": [
    {
     "data": {
      "text/plain": [
       "0.81"
      ]
     },
     "execution_count": 15,
     "metadata": {},
     "output_type": "execute_result"
    }
   ],
   "source": [
    "square(0.9)"
   ]
  },
  {
   "cell_type": "markdown",
   "metadata": {},
   "source": [
    "# Answers\n",
    "The answers to the above tasks are listed below this cell, before looking down here, make sure you've had a real good try at the tasks above!\n",
    "```\n",
    "\n",
    "\n",
    "\n",
    "\n",
    "\n",
    "\n",
    "\n",
    "\n",
    "\n",
    "\n",
    "\n",
    "\n",
    "\n",
    "\n",
    "\n",
    "\n",
    "\n",
    "\n",
    "\n",
    "\n",
    "\n",
    "\n",
    "\n",
    "\n",
    "\n",
    "\n",
    "\n",
    "\n",
    "\n",
    "\n",
    "\n",
    "\n",
    "\n",
    "\n",
    "\n",
    "\n",
    "\n",
    "\n",
    "\n",
    "\n",
    "\n",
    "```\n",
    "\n",
    "\n",
    "\n"
   ]
  },
  {
   "cell_type": "markdown",
   "metadata": {},
   "source": [
    "### Task 1\n",
    "Define a function and call it! It can do anything you want such as Printing a message!"
   ]
  },
  {
   "cell_type": "code",
   "execution_count": 2,
   "metadata": {},
   "outputs": [
    {
     "name": "stdout",
     "output_type": "stream",
     "text": [
      "Hello DSAI!\n"
     ]
    }
   ],
   "source": [
    "# Your code goes below here!\n",
    "\n",
    "def HelloWorld():\n",
    "    print(\"Hello DSAI!\")\n",
    "\n",
    "HelloWorld()"
   ]
  },
  {
   "cell_type": "markdown",
   "metadata": {},
   "source": [
    "### Task 2\n",
    "For this task, do the following:\n",
    "- Define a function with 2 Arguments\n",
    "- Use an If/Else statement to find out which argument is the biggest number and then `print()` it!\n",
    "\n",
    "When you are done, call the function with 2 numbers and then Run the cell to see if it works!"
   ]
  },
  {
   "cell_type": "code",
   "execution_count": 3,
   "metadata": {},
   "outputs": [
    {
     "name": "stdout",
     "output_type": "stream",
     "text": [
      "30\n"
     ]
    }
   ],
   "source": [
    "# Your code goes below here!\n",
    "def BiggerNumber(numA, numB):\n",
    "    if(numA > numB):\n",
    "        print(numA)\n",
    "    else:\n",
    "        print(numB)\n",
    "        \n",
    "BiggerNumber(20,30)"
   ]
  },
  {
   "cell_type": "markdown",
   "metadata": {},
   "source": [
    "### Task 3\n",
    "For this task you will do the following:\n",
    "- Define a function with 1 Argument\n",
    "- Use an If/Else statement to find out if the argument is Positive or Negative\n",
    "- Make the function return `False` if the number is negative and `True` if Positive\n",
    "\n",
    "When you are done, call the function with a number and then Run the cell to see if it works!"
   ]
  },
  {
   "cell_type": "code",
   "execution_count": 4,
   "metadata": {},
   "outputs": [
    {
     "name": "stdout",
     "output_type": "stream",
     "text": [
      "False\n"
     ]
    }
   ],
   "source": [
    "# Your code goes below here!\n",
    "def IsPositive(number):\n",
    "    if(number >= 0):\n",
    "        return True\n",
    "    else:\n",
    "        return False\n",
    "    \n",
    "print(IsPositive(-1))"
   ]
  },
  {
   "cell_type": "markdown",
   "metadata": {},
   "source": [
    "### Task 4\n",
    "For this task you will do the following:\n",
    "- Define a Function with 1 Argument that Squares the number you give it and returns it!"
   ]
  },
  {
   "cell_type": "code",
   "execution_count": 5,
   "metadata": {},
   "outputs": [
    {
     "name": "stdout",
     "output_type": "stream",
     "text": [
      "25\n"
     ]
    }
   ],
   "source": [
    "#Your code goes below here!\n",
    "\n",
    "def Square(number):\n",
    "    return number * number\n",
    "\n",
    "print(Square(5))"
   ]
  }
 ],
 "metadata": {
  "kernelspec": {
   "display_name": "Python 3",
   "language": "python",
   "name": "python3"
  },
  "language_info": {
   "codemirror_mode": {
    "name": "ipython",
    "version": 3
   },
   "file_extension": ".py",
   "mimetype": "text/x-python",
   "name": "python",
   "nbconvert_exporter": "python",
   "pygments_lexer": "ipython3",
   "version": "3.7.11"
  }
 },
 "nbformat": 4,
 "nbformat_minor": 4
}
